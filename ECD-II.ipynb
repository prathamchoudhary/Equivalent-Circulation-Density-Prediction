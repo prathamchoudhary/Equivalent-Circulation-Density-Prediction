{
 "cells": [
  {
   "cell_type": "code",
   "execution_count": 1,
   "metadata": {},
   "outputs": [],
   "source": [
    "import pandas as pd\n",
    "import numpy as np\n",
    "import seaborn as sns\n",
    "import matplotlib.pyplot as plt"
   ]
  },
  {
   "cell_type": "code",
   "execution_count": 2,
   "metadata": {},
   "outputs": [
    {
     "data": {
      "text/html": [
       "<div>\n",
       "<style scoped>\n",
       "    .dataframe tbody tr th:only-of-type {\n",
       "        vertical-align: middle;\n",
       "    }\n",
       "\n",
       "    .dataframe tbody tr th {\n",
       "        vertical-align: top;\n",
       "    }\n",
       "\n",
       "    .dataframe thead th {\n",
       "        text-align: right;\n",
       "    }\n",
       "</style>\n",
       "<table border=\"1\" class=\"dataframe\">\n",
       "  <thead>\n",
       "    <tr style=\"text-align: right;\">\n",
       "      <th></th>\n",
       "      <th>Well Name</th>\n",
       "      <th>Depth (ft)</th>\n",
       "      <th>Rig State</th>\n",
       "      <th>ROP (ft/hr)</th>\n",
       "      <th>WOB (klb)</th>\n",
       "      <th>Diff Press (psi)</th>\n",
       "      <th>Torque (ft-lb)</th>\n",
       "      <th>RPM (rpm)</th>\n",
       "      <th>Flow In (gpm)</th>\n",
       "      <th>ECD</th>\n",
       "    </tr>\n",
       "  </thead>\n",
       "  <tbody>\n",
       "    <tr>\n",
       "      <th>0</th>\n",
       "      <td>GUAJILLO UNIT 8 SOUTH 5H</td>\n",
       "      <td>14.9</td>\n",
       "      <td>SLIDE DRILLING</td>\n",
       "      <td>2054.0</td>\n",
       "      <td>107.6</td>\n",
       "      <td>NaN</td>\n",
       "      <td>NaN</td>\n",
       "      <td>0.1</td>\n",
       "      <td>290.3</td>\n",
       "      <td>18.2</td>\n",
       "    </tr>\n",
       "    <tr>\n",
       "      <th>1</th>\n",
       "      <td>GUAJILLO UNIT 8 SOUTH 5H</td>\n",
       "      <td>16.7</td>\n",
       "      <td>SLIDE DRILLING</td>\n",
       "      <td>1256.8</td>\n",
       "      <td>107.6</td>\n",
       "      <td>NaN</td>\n",
       "      <td>NaN</td>\n",
       "      <td>0.1</td>\n",
       "      <td>283.2</td>\n",
       "      <td>16.4</td>\n",
       "    </tr>\n",
       "    <tr>\n",
       "      <th>2</th>\n",
       "      <td>GUAJILLO UNIT 8 SOUTH 5H</td>\n",
       "      <td>18.3</td>\n",
       "      <td>SLIDE DRILLING</td>\n",
       "      <td>1018.8</td>\n",
       "      <td>107.5</td>\n",
       "      <td>NaN</td>\n",
       "      <td>NaN</td>\n",
       "      <td>0.1</td>\n",
       "      <td>98.3</td>\n",
       "      <td>19.9</td>\n",
       "    </tr>\n",
       "    <tr>\n",
       "      <th>3</th>\n",
       "      <td>GUAJILLO UNIT 8 SOUTH 5H</td>\n",
       "      <td>19.4</td>\n",
       "      <td>SLIDE DRILLING</td>\n",
       "      <td>736.1</td>\n",
       "      <td>107.5</td>\n",
       "      <td>NaN</td>\n",
       "      <td>NaN</td>\n",
       "      <td>0.1</td>\n",
       "      <td>93.8</td>\n",
       "      <td>18.5</td>\n",
       "    </tr>\n",
       "    <tr>\n",
       "      <th>4</th>\n",
       "      <td>GUAJILLO UNIT 8 SOUTH 5H</td>\n",
       "      <td>21.4</td>\n",
       "      <td>SLIDE DRILLING</td>\n",
       "      <td>2080.0</td>\n",
       "      <td>107.8</td>\n",
       "      <td>NaN</td>\n",
       "      <td>634.1</td>\n",
       "      <td>0.1</td>\n",
       "      <td>522.8</td>\n",
       "      <td>16.4</td>\n",
       "    </tr>\n",
       "  </tbody>\n",
       "</table>\n",
       "</div>"
      ],
      "text/plain": [
       "                  Well Name  Depth (ft)       Rig State  ROP (ft/hr)  \\\n",
       "0  GUAJILLO UNIT 8 SOUTH 5H        14.9  SLIDE DRILLING       2054.0   \n",
       "1  GUAJILLO UNIT 8 SOUTH 5H        16.7  SLIDE DRILLING       1256.8   \n",
       "2  GUAJILLO UNIT 8 SOUTH 5H        18.3  SLIDE DRILLING       1018.8   \n",
       "3  GUAJILLO UNIT 8 SOUTH 5H        19.4  SLIDE DRILLING        736.1   \n",
       "4  GUAJILLO UNIT 8 SOUTH 5H        21.4  SLIDE DRILLING       2080.0   \n",
       "\n",
       "   WOB (klb)  Diff Press (psi)  Torque (ft-lb)  RPM (rpm)  Flow In (gpm)   ECD  \n",
       "0      107.6               NaN             NaN        0.1          290.3  18.2  \n",
       "1      107.6               NaN             NaN        0.1          283.2  16.4  \n",
       "2      107.5               NaN             NaN        0.1           98.3  19.9  \n",
       "3      107.5               NaN             NaN        0.1           93.8  18.5  \n",
       "4      107.8               NaN           634.1        0.1          522.8  16.4  "
      ]
     },
     "execution_count": 2,
     "metadata": {},
     "output_type": "execute_result"
    }
   ],
   "source": [
    "surface = pd.read_csv('Guajillo_SurfaceData.csv')\n",
    "surface.head()"
   ]
  },
  {
   "cell_type": "code",
   "execution_count": 3,
   "metadata": {},
   "outputs": [
    {
     "data": {
      "text/html": [
       "<div>\n",
       "<style scoped>\n",
       "    .dataframe tbody tr th:only-of-type {\n",
       "        vertical-align: middle;\n",
       "    }\n",
       "\n",
       "    .dataframe tbody tr th {\n",
       "        vertical-align: top;\n",
       "    }\n",
       "\n",
       "    .dataframe thead th {\n",
       "        text-align: right;\n",
       "    }\n",
       "</style>\n",
       "<table border=\"1\" class=\"dataframe\">\n",
       "  <thead>\n",
       "    <tr style=\"text-align: right;\">\n",
       "      <th></th>\n",
       "      <th>Depth Index( ft )</th>\n",
       "      <th>MudFlowInAvg (gpm )</th>\n",
       "      <th>MudDensityInAvg (ppg )</th>\n",
       "      <th>ROPAvg (ft/hr )</th>\n",
       "      <th>RPMA (rpm )</th>\n",
       "      <th>WeightonBitMax (klb )</th>\n",
       "      <th>SurfaceTorqueMax (ft-lb )</th>\n",
       "      <th>PumpPressure (psi )</th>\n",
       "    </tr>\n",
       "  </thead>\n",
       "  <tbody>\n",
       "    <tr>\n",
       "      <th>0</th>\n",
       "      <td>1.0</td>\n",
       "      <td>0.0</td>\n",
       "      <td>10</td>\n",
       "      <td>0.0</td>\n",
       "      <td>0.2</td>\n",
       "      <td>126.8</td>\n",
       "      <td>0.0</td>\n",
       "      <td>10.1</td>\n",
       "    </tr>\n",
       "    <tr>\n",
       "      <th>1</th>\n",
       "      <td>4.0</td>\n",
       "      <td>0.0</td>\n",
       "      <td>10</td>\n",
       "      <td>3432.7</td>\n",
       "      <td>0.1</td>\n",
       "      <td>108.6</td>\n",
       "      <td>0.0</td>\n",
       "      <td>8.9</td>\n",
       "    </tr>\n",
       "    <tr>\n",
       "      <th>2</th>\n",
       "      <td>9.0</td>\n",
       "      <td>0.0</td>\n",
       "      <td>10</td>\n",
       "      <td>3376.4</td>\n",
       "      <td>0.1</td>\n",
       "      <td>108.5</td>\n",
       "      <td>0.0</td>\n",
       "      <td>9.8</td>\n",
       "    </tr>\n",
       "    <tr>\n",
       "      <th>3</th>\n",
       "      <td>12.0</td>\n",
       "      <td>0.0</td>\n",
       "      <td>10</td>\n",
       "      <td>933.2</td>\n",
       "      <td>0.1</td>\n",
       "      <td>108.4</td>\n",
       "      <td>0.0</td>\n",
       "      <td>10.0</td>\n",
       "    </tr>\n",
       "    <tr>\n",
       "      <th>4</th>\n",
       "      <td>13.5</td>\n",
       "      <td>0.0</td>\n",
       "      <td>10</td>\n",
       "      <td>832.2</td>\n",
       "      <td>0.1</td>\n",
       "      <td>109.1</td>\n",
       "      <td>0.0</td>\n",
       "      <td>8.8</td>\n",
       "    </tr>\n",
       "  </tbody>\n",
       "</table>\n",
       "</div>"
      ],
      "text/plain": [
       "   Depth Index( ft )  MudFlowInAvg (gpm )  MudDensityInAvg (ppg )  \\\n",
       "0                1.0                  0.0                      10   \n",
       "1                4.0                  0.0                      10   \n",
       "2                9.0                  0.0                      10   \n",
       "3               12.0                  0.0                      10   \n",
       "4               13.5                  0.0                      10   \n",
       "\n",
       "   ROPAvg (ft/hr )  RPMA (rpm )  WeightonBitMax (klb )  \\\n",
       "0              0.0          0.2                  126.8   \n",
       "1           3432.7          0.1                  108.6   \n",
       "2           3376.4          0.1                  108.5   \n",
       "3            933.2          0.1                  108.4   \n",
       "4            832.2          0.1                  109.1   \n",
       "\n",
       "   SurfaceTorqueMax (ft-lb )  PumpPressure (psi )  \n",
       "0                        0.0                 10.1  \n",
       "1                        0.0                  8.9  \n",
       "2                        0.0                  9.8  \n",
       "3                        0.0                 10.0  \n",
       "4                        0.0                  8.8  "
      ]
     },
     "execution_count": 3,
     "metadata": {},
     "output_type": "execute_result"
    }
   ],
   "source": [
    "pump = pd.read_csv('Guajillo_PumpData.csv')\n",
    "pump.head()"
   ]
  },
  {
   "cell_type": "code",
   "execution_count": 4,
   "metadata": {},
   "outputs": [],
   "source": [
    "d_pump = pump['Depth Index( ft )'].apply(lambda x: np.ceil(x))\n",
    "d_surface = surface['Depth (ft)'].apply(lambda x: np.ceil(x))\n",
    "surface['Depth (ft)'] = d_surface\n",
    "pump['Depth Index( ft )'] = d_pump"
   ]
  },
  {
   "cell_type": "code",
   "execution_count": 5,
   "metadata": {},
   "outputs": [],
   "source": [
    "surface.drop(['Well Name', 'Rig State'], axis=1, inplace=True)\n",
    "pump.drop(['MudFlowInAvg (gpm )', 'ROPAvg (ft/hr )', 'RPMA (rpm )', 'WeightonBitMax (klb )',\n",
    "       'SurfaceTorqueMax (ft-lb )'], axis=1, inplace=True)"
   ]
  },
  {
   "cell_type": "code",
   "execution_count": 6,
   "metadata": {},
   "outputs": [
    {
     "data": {
      "text/html": [
       "<div>\n",
       "<style scoped>\n",
       "    .dataframe tbody tr th:only-of-type {\n",
       "        vertical-align: middle;\n",
       "    }\n",
       "\n",
       "    .dataframe tbody tr th {\n",
       "        vertical-align: top;\n",
       "    }\n",
       "\n",
       "    .dataframe thead th {\n",
       "        text-align: right;\n",
       "    }\n",
       "</style>\n",
       "<table border=\"1\" class=\"dataframe\">\n",
       "  <thead>\n",
       "    <tr style=\"text-align: right;\">\n",
       "      <th></th>\n",
       "      <th>Depth</th>\n",
       "      <th>ROP</th>\n",
       "      <th>WOB</th>\n",
       "      <th>DelP</th>\n",
       "      <th>Torque</th>\n",
       "      <th>RPM</th>\n",
       "      <th>Flow Rate</th>\n",
       "      <th>ECD</th>\n",
       "    </tr>\n",
       "  </thead>\n",
       "  <tbody>\n",
       "    <tr>\n",
       "      <th>0</th>\n",
       "      <td>15.0</td>\n",
       "      <td>2054.0</td>\n",
       "      <td>107.6</td>\n",
       "      <td>NaN</td>\n",
       "      <td>NaN</td>\n",
       "      <td>0.1</td>\n",
       "      <td>290.3</td>\n",
       "      <td>18.2</td>\n",
       "    </tr>\n",
       "    <tr>\n",
       "      <th>1</th>\n",
       "      <td>17.0</td>\n",
       "      <td>1256.8</td>\n",
       "      <td>107.6</td>\n",
       "      <td>NaN</td>\n",
       "      <td>NaN</td>\n",
       "      <td>0.1</td>\n",
       "      <td>283.2</td>\n",
       "      <td>16.4</td>\n",
       "    </tr>\n",
       "    <tr>\n",
       "      <th>2</th>\n",
       "      <td>19.0</td>\n",
       "      <td>1018.8</td>\n",
       "      <td>107.5</td>\n",
       "      <td>NaN</td>\n",
       "      <td>NaN</td>\n",
       "      <td>0.1</td>\n",
       "      <td>98.3</td>\n",
       "      <td>19.9</td>\n",
       "    </tr>\n",
       "    <tr>\n",
       "      <th>3</th>\n",
       "      <td>20.0</td>\n",
       "      <td>736.1</td>\n",
       "      <td>107.5</td>\n",
       "      <td>NaN</td>\n",
       "      <td>NaN</td>\n",
       "      <td>0.1</td>\n",
       "      <td>93.8</td>\n",
       "      <td>18.5</td>\n",
       "    </tr>\n",
       "    <tr>\n",
       "      <th>4</th>\n",
       "      <td>22.0</td>\n",
       "      <td>2080.0</td>\n",
       "      <td>107.8</td>\n",
       "      <td>NaN</td>\n",
       "      <td>634.1</td>\n",
       "      <td>0.1</td>\n",
       "      <td>522.8</td>\n",
       "      <td>16.4</td>\n",
       "    </tr>\n",
       "  </tbody>\n",
       "</table>\n",
       "</div>"
      ],
      "text/plain": [
       "   Depth     ROP    WOB  DelP  Torque  RPM  Flow Rate   ECD\n",
       "0   15.0  2054.0  107.6   NaN     NaN  0.1      290.3  18.2\n",
       "1   17.0  1256.8  107.6   NaN     NaN  0.1      283.2  16.4\n",
       "2   19.0  1018.8  107.5   NaN     NaN  0.1       98.3  19.9\n",
       "3   20.0   736.1  107.5   NaN     NaN  0.1       93.8  18.5\n",
       "4   22.0  2080.0  107.8   NaN   634.1  0.1      522.8  16.4"
      ]
     },
     "execution_count": 6,
     "metadata": {},
     "output_type": "execute_result"
    }
   ],
   "source": [
    "surface = surface.rename({'Depth (ft)': 'Depth', 'ROP (ft/hr)': 'ROP', 'WOB (klb)': 'WOB', 'Diff Press (psi)': 'DelP',\n",
    "                'Torque (ft-lb)': 'Torque', 'RPM (rpm)': 'RPM', 'Flow In (gpm)': 'Flow Rate'}, axis=1)\n",
    "surface.head()"
   ]
  },
  {
   "cell_type": "code",
   "execution_count": 7,
   "metadata": {},
   "outputs": [
    {
     "data": {
      "text/html": [
       "<div>\n",
       "<style scoped>\n",
       "    .dataframe tbody tr th:only-of-type {\n",
       "        vertical-align: middle;\n",
       "    }\n",
       "\n",
       "    .dataframe tbody tr th {\n",
       "        vertical-align: top;\n",
       "    }\n",
       "\n",
       "    .dataframe thead th {\n",
       "        text-align: right;\n",
       "    }\n",
       "</style>\n",
       "<table border=\"1\" class=\"dataframe\">\n",
       "  <thead>\n",
       "    <tr style=\"text-align: right;\">\n",
       "      <th></th>\n",
       "      <th>Depth</th>\n",
       "      <th>Mud Weight</th>\n",
       "      <th>Pump Pressure</th>\n",
       "    </tr>\n",
       "  </thead>\n",
       "  <tbody>\n",
       "    <tr>\n",
       "      <th>0</th>\n",
       "      <td>1.0</td>\n",
       "      <td>10</td>\n",
       "      <td>10.1</td>\n",
       "    </tr>\n",
       "    <tr>\n",
       "      <th>1</th>\n",
       "      <td>4.0</td>\n",
       "      <td>10</td>\n",
       "      <td>8.9</td>\n",
       "    </tr>\n",
       "    <tr>\n",
       "      <th>2</th>\n",
       "      <td>9.0</td>\n",
       "      <td>10</td>\n",
       "      <td>9.8</td>\n",
       "    </tr>\n",
       "    <tr>\n",
       "      <th>3</th>\n",
       "      <td>12.0</td>\n",
       "      <td>10</td>\n",
       "      <td>10.0</td>\n",
       "    </tr>\n",
       "    <tr>\n",
       "      <th>4</th>\n",
       "      <td>14.0</td>\n",
       "      <td>10</td>\n",
       "      <td>8.8</td>\n",
       "    </tr>\n",
       "  </tbody>\n",
       "</table>\n",
       "</div>"
      ],
      "text/plain": [
       "   Depth  Mud Weight  Pump Pressure\n",
       "0    1.0          10           10.1\n",
       "1    4.0          10            8.9\n",
       "2    9.0          10            9.8\n",
       "3   12.0          10           10.0\n",
       "4   14.0          10            8.8"
      ]
     },
     "execution_count": 7,
     "metadata": {},
     "output_type": "execute_result"
    }
   ],
   "source": [
    "pump = pump.rename({'Depth Index( ft )': 'Depth', 'PumpPressure (psi )': 'Pump Pressure', \n",
    "                    'MudDensityInAvg (ppg )': 'Mud Weight'}, axis=1)\n",
    "pump.head()"
   ]
  },
  {
   "cell_type": "code",
   "execution_count": 8,
   "metadata": {},
   "outputs": [
    {
     "data": {
      "text/html": [
       "<div>\n",
       "<style scoped>\n",
       "    .dataframe tbody tr th:only-of-type {\n",
       "        vertical-align: middle;\n",
       "    }\n",
       "\n",
       "    .dataframe tbody tr th {\n",
       "        vertical-align: top;\n",
       "    }\n",
       "\n",
       "    .dataframe thead th {\n",
       "        text-align: right;\n",
       "    }\n",
       "</style>\n",
       "<table border=\"1\" class=\"dataframe\">\n",
       "  <thead>\n",
       "    <tr style=\"text-align: right;\">\n",
       "      <th></th>\n",
       "      <th>Depth</th>\n",
       "      <th>ROP</th>\n",
       "      <th>WOB</th>\n",
       "      <th>DelP</th>\n",
       "      <th>Torque</th>\n",
       "      <th>RPM</th>\n",
       "      <th>Flow Rate</th>\n",
       "      <th>ECD</th>\n",
       "      <th>Mud Weight</th>\n",
       "      <th>Pump Pressure</th>\n",
       "    </tr>\n",
       "  </thead>\n",
       "  <tbody>\n",
       "    <tr>\n",
       "      <th>0</th>\n",
       "      <td>15.0</td>\n",
       "      <td>2054.0</td>\n",
       "      <td>107.6</td>\n",
       "      <td>NaN</td>\n",
       "      <td>NaN</td>\n",
       "      <td>0.1</td>\n",
       "      <td>290.3</td>\n",
       "      <td>18.2</td>\n",
       "      <td>10.0</td>\n",
       "      <td>309.9</td>\n",
       "    </tr>\n",
       "    <tr>\n",
       "      <th>1</th>\n",
       "      <td>17.0</td>\n",
       "      <td>1256.8</td>\n",
       "      <td>107.6</td>\n",
       "      <td>NaN</td>\n",
       "      <td>NaN</td>\n",
       "      <td>0.1</td>\n",
       "      <td>283.2</td>\n",
       "      <td>16.4</td>\n",
       "      <td>10.0</td>\n",
       "      <td>205.2</td>\n",
       "    </tr>\n",
       "    <tr>\n",
       "      <th>2</th>\n",
       "      <td>19.0</td>\n",
       "      <td>1018.8</td>\n",
       "      <td>107.5</td>\n",
       "      <td>NaN</td>\n",
       "      <td>NaN</td>\n",
       "      <td>0.1</td>\n",
       "      <td>98.3</td>\n",
       "      <td>19.9</td>\n",
       "      <td>10.0</td>\n",
       "      <td>123.3</td>\n",
       "    </tr>\n",
       "    <tr>\n",
       "      <th>3</th>\n",
       "      <td>20.0</td>\n",
       "      <td>736.1</td>\n",
       "      <td>107.5</td>\n",
       "      <td>NaN</td>\n",
       "      <td>NaN</td>\n",
       "      <td>0.1</td>\n",
       "      <td>93.8</td>\n",
       "      <td>18.5</td>\n",
       "      <td>10.0</td>\n",
       "      <td>120.5</td>\n",
       "    </tr>\n",
       "    <tr>\n",
       "      <th>4</th>\n",
       "      <td>22.0</td>\n",
       "      <td>2080.0</td>\n",
       "      <td>107.8</td>\n",
       "      <td>NaN</td>\n",
       "      <td>634.1</td>\n",
       "      <td>0.1</td>\n",
       "      <td>522.8</td>\n",
       "      <td>16.4</td>\n",
       "      <td>10.0</td>\n",
       "      <td>590.7</td>\n",
       "    </tr>\n",
       "  </tbody>\n",
       "</table>\n",
       "</div>"
      ],
      "text/plain": [
       "   Depth     ROP    WOB  DelP  Torque  RPM  Flow Rate   ECD  Mud Weight  \\\n",
       "0   15.0  2054.0  107.6   NaN     NaN  0.1      290.3  18.2        10.0   \n",
       "1   17.0  1256.8  107.6   NaN     NaN  0.1      283.2  16.4        10.0   \n",
       "2   19.0  1018.8  107.5   NaN     NaN  0.1       98.3  19.9        10.0   \n",
       "3   20.0   736.1  107.5   NaN     NaN  0.1       93.8  18.5        10.0   \n",
       "4   22.0  2080.0  107.8   NaN   634.1  0.1      522.8  16.4        10.0   \n",
       "\n",
       "   Pump Pressure  \n",
       "0          309.9  \n",
       "1          205.2  \n",
       "2          123.3  \n",
       "3          120.5  \n",
       "4          590.7  "
      ]
     },
     "execution_count": 8,
     "metadata": {},
     "output_type": "execute_result"
    }
   ],
   "source": [
    "data = pd.merge(surface, pump, how = 'outer')\n",
    "data.head()"
   ]
  },
  {
   "cell_type": "code",
   "execution_count": 9,
   "metadata": {},
   "outputs": [
    {
     "data": {
      "text/html": [
       "<div>\n",
       "<style scoped>\n",
       "    .dataframe tbody tr th:only-of-type {\n",
       "        vertical-align: middle;\n",
       "    }\n",
       "\n",
       "    .dataframe tbody tr th {\n",
       "        vertical-align: top;\n",
       "    }\n",
       "\n",
       "    .dataframe thead th {\n",
       "        text-align: right;\n",
       "    }\n",
       "</style>\n",
       "<table border=\"1\" class=\"dataframe\">\n",
       "  <thead>\n",
       "    <tr style=\"text-align: right;\">\n",
       "      <th></th>\n",
       "      <th>Depth</th>\n",
       "      <th>ROP</th>\n",
       "      <th>WOB</th>\n",
       "      <th>DelP</th>\n",
       "      <th>Torque</th>\n",
       "      <th>RPM</th>\n",
       "      <th>Flow Rate</th>\n",
       "      <th>ECD</th>\n",
       "      <th>Mud Weight</th>\n",
       "      <th>Pump Pressure</th>\n",
       "    </tr>\n",
       "  </thead>\n",
       "  <tbody>\n",
       "    <tr>\n",
       "      <th>0</th>\n",
       "      <td>36.0</td>\n",
       "      <td>918.4</td>\n",
       "      <td>0.2</td>\n",
       "      <td>27.6</td>\n",
       "      <td>454.9</td>\n",
       "      <td>19.8</td>\n",
       "      <td>522.9</td>\n",
       "      <td>14.5</td>\n",
       "      <td>10.0</td>\n",
       "      <td>663.4</td>\n",
       "    </tr>\n",
       "    <tr>\n",
       "      <th>1</th>\n",
       "      <td>38.0</td>\n",
       "      <td>1585.2</td>\n",
       "      <td>0.1</td>\n",
       "      <td>28.5</td>\n",
       "      <td>362.7</td>\n",
       "      <td>19.8</td>\n",
       "      <td>522.9</td>\n",
       "      <td>15.6</td>\n",
       "      <td>10.0</td>\n",
       "      <td>648.6</td>\n",
       "    </tr>\n",
       "    <tr>\n",
       "      <th>2</th>\n",
       "      <td>40.0</td>\n",
       "      <td>1558.7</td>\n",
       "      <td>0.2</td>\n",
       "      <td>7.1</td>\n",
       "      <td>173.1</td>\n",
       "      <td>19.8</td>\n",
       "      <td>522.9</td>\n",
       "      <td>15.6</td>\n",
       "      <td>10.0</td>\n",
       "      <td>644.8</td>\n",
       "    </tr>\n",
       "    <tr>\n",
       "      <th>3</th>\n",
       "      <td>42.0</td>\n",
       "      <td>1307.0</td>\n",
       "      <td>0.3</td>\n",
       "      <td>17.4</td>\n",
       "      <td>310.3</td>\n",
       "      <td>19.8</td>\n",
       "      <td>522.9</td>\n",
       "      <td>15.2</td>\n",
       "      <td>10.0</td>\n",
       "      <td>620.6</td>\n",
       "    </tr>\n",
       "    <tr>\n",
       "      <th>4</th>\n",
       "      <td>44.0</td>\n",
       "      <td>1567.5</td>\n",
       "      <td>0.2</td>\n",
       "      <td>20.8</td>\n",
       "      <td>400.3</td>\n",
       "      <td>19.8</td>\n",
       "      <td>521.7</td>\n",
       "      <td>15.6</td>\n",
       "      <td>10.0</td>\n",
       "      <td>643.0</td>\n",
       "    </tr>\n",
       "  </tbody>\n",
       "</table>\n",
       "</div>"
      ],
      "text/plain": [
       "   Depth     ROP  WOB  DelP  Torque   RPM  Flow Rate   ECD  Mud Weight  \\\n",
       "0   36.0   918.4  0.2  27.6   454.9  19.8      522.9  14.5        10.0   \n",
       "1   38.0  1585.2  0.1  28.5   362.7  19.8      522.9  15.6        10.0   \n",
       "2   40.0  1558.7  0.2   7.1   173.1  19.8      522.9  15.6        10.0   \n",
       "3   42.0  1307.0  0.3  17.4   310.3  19.8      522.9  15.2        10.0   \n",
       "4   44.0  1567.5  0.2  20.8   400.3  19.8      521.7  15.6        10.0   \n",
       "\n",
       "   Pump Pressure  \n",
       "0          663.4  \n",
       "1          648.6  \n",
       "2          644.8  \n",
       "3          620.6  \n",
       "4          643.0  "
      ]
     },
     "execution_count": 9,
     "metadata": {},
     "output_type": "execute_result"
    }
   ],
   "source": [
    "data = data.dropna()\n",
    "data = data.groupby('Depth').mean()\n",
    "data = data.reset_index()\n",
    "data.head()"
   ]
  },
  {
   "cell_type": "code",
   "execution_count": 10,
   "metadata": {},
   "outputs": [],
   "source": [
    "from sklearn.preprocessing import MinMaxScaler\n",
    "scaler = MinMaxScaler()\n",
    "Normalized_data = scaler.fit_transform(data)\n",
    "Normdata = pd.DataFrame(Normalized_data, columns = data.columns)"
   ]
  },
  {
   "cell_type": "code",
   "execution_count": 11,
   "metadata": {},
   "outputs": [
    {
     "data": {
      "text/plain": [
       "Index(['Depth', 'ROP', 'WOB', 'DelP', 'Torque', 'RPM', 'Flow Rate', 'ECD',\n",
       "       'Mud Weight', 'Pump Pressure'],\n",
       "      dtype='object')"
      ]
     },
     "execution_count": 11,
     "metadata": {},
     "output_type": "execute_result"
    }
   ],
   "source": [
    "Normdata.columns"
   ]
  },
  {
   "cell_type": "code",
   "execution_count": 12,
   "metadata": {},
   "outputs": [],
   "source": [
    "X = Normdata[['Depth', 'ROP', 'WOB', 'DelP', 'Torque', 'RPM', 'Flow Rate',\n",
    "       'Mud Weight', 'Pump Pressure']]\n",
    "y = Normdata['ECD']"
   ]
  },
  {
   "cell_type": "code",
   "execution_count": 13,
   "metadata": {},
   "outputs": [
    {
     "data": {
      "text/html": [
       "<div>\n",
       "<style scoped>\n",
       "    .dataframe tbody tr th:only-of-type {\n",
       "        vertical-align: middle;\n",
       "    }\n",
       "\n",
       "    .dataframe tbody tr th {\n",
       "        vertical-align: top;\n",
       "    }\n",
       "\n",
       "    .dataframe thead th {\n",
       "        text-align: right;\n",
       "    }\n",
       "</style>\n",
       "<table border=\"1\" class=\"dataframe\">\n",
       "  <thead>\n",
       "    <tr style=\"text-align: right;\">\n",
       "      <th></th>\n",
       "      <th>Depth</th>\n",
       "      <th>ROP</th>\n",
       "      <th>WOB</th>\n",
       "      <th>DelP</th>\n",
       "      <th>Torque</th>\n",
       "      <th>RPM</th>\n",
       "      <th>Flow Rate</th>\n",
       "      <th>Mud Weight</th>\n",
       "      <th>Pump Pressure</th>\n",
       "    </tr>\n",
       "  </thead>\n",
       "  <tbody>\n",
       "    <tr>\n",
       "      <th>0</th>\n",
       "      <td>0.000000</td>\n",
       "      <td>0.548329</td>\n",
       "      <td>0.003263</td>\n",
       "      <td>0.021053</td>\n",
       "      <td>0.016578</td>\n",
       "      <td>0.19469</td>\n",
       "      <td>0.027205</td>\n",
       "      <td>0.0</td>\n",
       "      <td>0.017703</td>\n",
       "    </tr>\n",
       "    <tr>\n",
       "      <th>1</th>\n",
       "      <td>0.000111</td>\n",
       "      <td>0.951777</td>\n",
       "      <td>0.001631</td>\n",
       "      <td>0.021763</td>\n",
       "      <td>0.012671</td>\n",
       "      <td>0.19469</td>\n",
       "      <td>0.027205</td>\n",
       "      <td>0.0</td>\n",
       "      <td>0.014732</td>\n",
       "    </tr>\n",
       "    <tr>\n",
       "      <th>2</th>\n",
       "      <td>0.000222</td>\n",
       "      <td>0.935743</td>\n",
       "      <td>0.003263</td>\n",
       "      <td>0.004889</td>\n",
       "      <td>0.004636</td>\n",
       "      <td>0.19469</td>\n",
       "      <td>0.027205</td>\n",
       "      <td>0.0</td>\n",
       "      <td>0.013969</td>\n",
       "    </tr>\n",
       "    <tr>\n",
       "      <th>3</th>\n",
       "      <td>0.000333</td>\n",
       "      <td>0.783452</td>\n",
       "      <td>0.004894</td>\n",
       "      <td>0.013011</td>\n",
       "      <td>0.010450</td>\n",
       "      <td>0.19469</td>\n",
       "      <td>0.027205</td>\n",
       "      <td>0.0</td>\n",
       "      <td>0.009112</td>\n",
       "    </tr>\n",
       "    <tr>\n",
       "      <th>4</th>\n",
       "      <td>0.000444</td>\n",
       "      <td>0.941068</td>\n",
       "      <td>0.003263</td>\n",
       "      <td>0.015692</td>\n",
       "      <td>0.014264</td>\n",
       "      <td>0.19469</td>\n",
       "      <td>0.025007</td>\n",
       "      <td>0.0</td>\n",
       "      <td>0.013608</td>\n",
       "    </tr>\n",
       "  </tbody>\n",
       "</table>\n",
       "</div>"
      ],
      "text/plain": [
       "      Depth       ROP       WOB      DelP    Torque      RPM  Flow Rate  \\\n",
       "0  0.000000  0.548329  0.003263  0.021053  0.016578  0.19469   0.027205   \n",
       "1  0.000111  0.951777  0.001631  0.021763  0.012671  0.19469   0.027205   \n",
       "2  0.000222  0.935743  0.003263  0.004889  0.004636  0.19469   0.027205   \n",
       "3  0.000333  0.783452  0.004894  0.013011  0.010450  0.19469   0.027205   \n",
       "4  0.000444  0.941068  0.003263  0.015692  0.014264  0.19469   0.025007   \n",
       "\n",
       "   Mud Weight  Pump Pressure  \n",
       "0         0.0       0.017703  \n",
       "1         0.0       0.014732  \n",
       "2         0.0       0.013969  \n",
       "3         0.0       0.009112  \n",
       "4         0.0       0.013608  "
      ]
     },
     "execution_count": 13,
     "metadata": {},
     "output_type": "execute_result"
    }
   ],
   "source": [
    "X.head()"
   ]
  },
  {
   "cell_type": "code",
   "execution_count": 14,
   "metadata": {},
   "outputs": [
    {
     "data": {
      "text/plain": [
       "0    0.551724\n",
       "1    0.931034\n",
       "2    0.931034\n",
       "3    0.793103\n",
       "4    0.931034\n",
       "Name: ECD, dtype: float64"
      ]
     },
     "execution_count": 14,
     "metadata": {},
     "output_type": "execute_result"
    }
   ],
   "source": [
    "y.head()"
   ]
  },
  {
   "cell_type": "markdown",
   "metadata": {},
   "source": [
    "# Decision Tree Regressor"
   ]
  },
  {
   "cell_type": "code",
   "execution_count": 15,
   "metadata": {},
   "outputs": [
    {
     "name": "stderr",
     "output_type": "stream",
     "text": [
      "C:\\Users\\INSOMNIAC_PRATHAM\\Anaconda3\\lib\\site-packages\\sklearn\\model_selection\\_split.py:2179: FutureWarning: From version 0.21, test_size will always complement train_size unless both are specified.\n",
      "  FutureWarning)\n"
     ]
    }
   ],
   "source": [
    "from sklearn.model_selection import train_test_split\n",
    "X_train, X_test, y_train, y_test = train_test_split(X, y, train_size=0.75, random_state=101)"
   ]
  },
  {
   "cell_type": "code",
   "execution_count": 16,
   "metadata": {},
   "outputs": [
    {
     "data": {
      "text/plain": [
       "0.9986357586583361"
      ]
     },
     "execution_count": 16,
     "metadata": {},
     "output_type": "execute_result"
    }
   ],
   "source": [
    "from sklearn.tree import DecisionTreeRegressor\n",
    "from sklearn.metrics import r2_score\n",
    "DTreg = DecisionTreeRegressor(random_state=101)\n",
    "DTreg.fit(X_train,y_train)\n",
    "R2 = DTreg.score(X_test,y_test)\n",
    "R2"
   ]
  },
  {
   "cell_type": "code",
   "execution_count": 17,
   "metadata": {},
   "outputs": [
    {
     "data": {
      "text/plain": [
       "1.0"
      ]
     },
     "execution_count": 17,
     "metadata": {},
     "output_type": "execute_result"
    }
   ],
   "source": [
    "DTreg.score(X_train,y_train)"
   ]
  },
  {
   "cell_type": "code",
   "execution_count": 18,
   "metadata": {},
   "outputs": [
    {
     "name": "stdout",
     "output_type": "stream",
     "text": [
      "<class 'pandas.core.frame.DataFrame'>\n",
      "RangeIndex: 16298 entries, 0 to 16297\n",
      "Data columns (total 5 columns):\n",
      "1    16298 non-null float64\n",
      "2    16298 non-null float64\n",
      "3    16298 non-null float64\n",
      "4    16298 non-null float64\n",
      "5    16298 non-null float64\n",
      "dtypes: float64(5)\n",
      "memory usage: 636.7 KB\n"
     ]
    }
   ],
   "source": [
    "from sklearn.decomposition import PCA\n",
    "pca5 = PCA(n_components=5)\n",
    "pca5 = pca5.fit_transform(X)\n",
    "X5 = pd.DataFrame(pca5, columns=['1', '2','3','4','5'])\n",
    "X5.info()"
   ]
  },
  {
   "cell_type": "code",
   "execution_count": 19,
   "metadata": {},
   "outputs": [
    {
     "name": "stderr",
     "output_type": "stream",
     "text": [
      "C:\\Users\\INSOMNIAC_PRATHAM\\Anaconda3\\lib\\site-packages\\sklearn\\model_selection\\_split.py:2179: FutureWarning: From version 0.21, test_size will always complement train_size unless both are specified.\n",
      "  FutureWarning)\n"
     ]
    }
   ],
   "source": [
    "X5_train, X5_test, y5_train, y5_test = train_test_split(X5, y, train_size=0.75, random_state=101)"
   ]
  },
  {
   "cell_type": "code",
   "execution_count": 20,
   "metadata": {},
   "outputs": [
    {
     "data": {
      "text/plain": [
       "0.982871961497214"
      ]
     },
     "execution_count": 20,
     "metadata": {},
     "output_type": "execute_result"
    }
   ],
   "source": [
    "DTreg.fit(X5_train,y5_train)\n",
    "R2_5 = DTreg.score(X5_test,y5_test)\n",
    "R2_5"
   ]
  },
  {
   "cell_type": "code",
   "execution_count": 21,
   "metadata": {},
   "outputs": [
    {
     "data": {
      "text/plain": [
       "1.0"
      ]
     },
     "execution_count": 21,
     "metadata": {},
     "output_type": "execute_result"
    }
   ],
   "source": [
    "DTreg.score(X5_train,y5_train)"
   ]
  },
  {
   "cell_type": "code",
   "execution_count": 22,
   "metadata": {},
   "outputs": [
    {
     "name": "stderr",
     "output_type": "stream",
     "text": [
      "C:\\Users\\INSOMNIAC_PRATHAM\\Anaconda3\\lib\\site-packages\\sklearn\\model_selection\\_split.py:2179: FutureWarning: From version 0.21, test_size will always complement train_size unless both are specified.\n",
      "  FutureWarning)\n"
     ]
    },
    {
     "data": {
      "text/plain": [
       "0.9816277549267286"
      ]
     },
     "execution_count": 22,
     "metadata": {},
     "output_type": "execute_result"
    }
   ],
   "source": [
    "pca6 = PCA(n_components=6)\n",
    "pca6 = pca6.fit_transform(X)\n",
    "X6 = pd.DataFrame(pca6, columns=['1', '2','3','4','5','6'])\n",
    "X6_train, X6_test, y6_train, y6_test = train_test_split(X6, y, train_size=0.75, random_state=101)\n",
    "DTreg.fit(X6_train,y6_train)\n",
    "R2_6 = DTreg.score(X6_test,y6_test)\n",
    "R2_6"
   ]
  },
  {
   "cell_type": "code",
   "execution_count": 23,
   "metadata": {},
   "outputs": [
    {
     "data": {
      "text/plain": [
       "1.0"
      ]
     },
     "execution_count": 23,
     "metadata": {},
     "output_type": "execute_result"
    }
   ],
   "source": [
    "DTreg.score(X6_train,y6_train)"
   ]
  },
  {
   "cell_type": "code",
   "execution_count": 24,
   "metadata": {},
   "outputs": [
    {
     "name": "stderr",
     "output_type": "stream",
     "text": [
      "C:\\Users\\INSOMNIAC_PRATHAM\\Anaconda3\\lib\\site-packages\\sklearn\\model_selection\\_split.py:2179: FutureWarning: From version 0.21, test_size will always complement train_size unless both are specified.\n",
      "  FutureWarning)\n"
     ]
    },
    {
     "data": {
      "text/plain": [
       "0.9680038083979629"
      ]
     },
     "execution_count": 24,
     "metadata": {},
     "output_type": "execute_result"
    }
   ],
   "source": [
    "pca4 = PCA(n_components=4)\n",
    "pca4 = pca4.fit_transform(X)\n",
    "X4 = pd.DataFrame(pca4, columns=['1', '2','3','4'])\n",
    "X4_train, X4_test, y4_train, y4_test = train_test_split(X4, y, train_size=0.75, random_state=101)\n",
    "DTreg.fit(X4_train,y4_train)\n",
    "R2_4 = DTreg.score(X4_test,y4_test)\n",
    "R2_4"
   ]
  },
  {
   "cell_type": "code",
   "execution_count": 25,
   "metadata": {},
   "outputs": [
    {
     "data": {
      "text/plain": [
       "1.0"
      ]
     },
     "execution_count": 25,
     "metadata": {},
     "output_type": "execute_result"
    }
   ],
   "source": [
    "DTreg.score(X4_train,y4_train)"
   ]
  },
  {
   "cell_type": "code",
   "execution_count": 26,
   "metadata": {},
   "outputs": [
    {
     "name": "stderr",
     "output_type": "stream",
     "text": [
      "C:\\Users\\INSOMNIAC_PRATHAM\\Anaconda3\\lib\\site-packages\\sklearn\\model_selection\\_split.py:2179: FutureWarning: From version 0.21, test_size will always complement train_size unless both are specified.\n",
      "  FutureWarning)\n"
     ]
    },
    {
     "data": {
      "text/plain": [
       "0.9833013166402758"
      ]
     },
     "execution_count": 26,
     "metadata": {},
     "output_type": "execute_result"
    }
   ],
   "source": [
    "pca7 = PCA(n_components=7)\n",
    "pca7 = pca7.fit_transform(X)\n",
    "X7 = pd.DataFrame(pca7, columns=['1', '2','3','4','5','6','7'])\n",
    "X7_train, X7_test, y7_train, y7_test = train_test_split(X7, y, train_size=0.75, random_state=101)\n",
    "DTreg.fit(X7_train,y7_train)\n",
    "R2_7 = DTreg.score(X7_test,y7_test)\n",
    "R2_7"
   ]
  },
  {
   "cell_type": "code",
   "execution_count": 27,
   "metadata": {},
   "outputs": [
    {
     "data": {
      "text/plain": [
       "1.0"
      ]
     },
     "execution_count": 27,
     "metadata": {},
     "output_type": "execute_result"
    }
   ],
   "source": [
    "DTreg.score(X7_train,y7_train)"
   ]
  },
  {
   "cell_type": "code",
   "execution_count": 28,
   "metadata": {},
   "outputs": [
    {
     "name": "stderr",
     "output_type": "stream",
     "text": [
      "C:\\Users\\INSOMNIAC_PRATHAM\\Anaconda3\\lib\\site-packages\\sklearn\\model_selection\\_split.py:2179: FutureWarning: From version 0.21, test_size will always complement train_size unless both are specified.\n",
      "  FutureWarning)\n"
     ]
    },
    {
     "data": {
      "text/plain": [
       "0.9556563854934612"
      ]
     },
     "execution_count": 28,
     "metadata": {},
     "output_type": "execute_result"
    }
   ],
   "source": [
    "pca3 = PCA(n_components=3)\n",
    "pca3 = pca3.fit_transform(X)\n",
    "X3 = pd.DataFrame(pca3, columns=['1', '2','3'])\n",
    "X3_train, X3_test, y3_train, y3_test = train_test_split(X3, y, train_size=0.75, random_state=101)\n",
    "DTreg.fit(X3_train,y3_train)\n",
    "R2_3 = DTreg.score(X3_test,y3_test)\n",
    "R2_3"
   ]
  },
  {
   "cell_type": "code",
   "execution_count": 29,
   "metadata": {},
   "outputs": [
    {
     "data": {
      "text/plain": [
       "1.0"
      ]
     },
     "execution_count": 29,
     "metadata": {},
     "output_type": "execute_result"
    }
   ],
   "source": [
    "DTreg.score(X3_train,y3_train)"
   ]
  },
  {
   "cell_type": "code",
   "execution_count": 30,
   "metadata": {},
   "outputs": [
    {
     "name": "stderr",
     "output_type": "stream",
     "text": [
      "C:\\Users\\INSOMNIAC_PRATHAM\\Anaconda3\\lib\\site-packages\\sklearn\\model_selection\\_split.py:2179: FutureWarning: From version 0.21, test_size will always complement train_size unless both are specified.\n",
      "  FutureWarning)\n"
     ]
    },
    {
     "data": {
      "text/plain": [
       "0.983178973508113"
      ]
     },
     "execution_count": 30,
     "metadata": {},
     "output_type": "execute_result"
    }
   ],
   "source": [
    "pca8 = PCA(n_components=8)\n",
    "pca8 = pca8.fit_transform(X)\n",
    "X8 = pd.DataFrame(pca8, columns=['1', '2','3','4','5','6','7','8'])\n",
    "X8_train, X8_test, y8_train, y8_test = train_test_split(X8, y, train_size=0.75, random_state=101)\n",
    "DTreg.fit(X8_train,y8_train)\n",
    "R2_8 = DTreg.score(X8_test,y8_test)\n",
    "R2_8"
   ]
  },
  {
   "cell_type": "code",
   "execution_count": 31,
   "metadata": {},
   "outputs": [
    {
     "data": {
      "text/plain": [
       "[0.9556563854934612,\n",
       " 0.9680038083979629,\n",
       " 0.982871961497214,\n",
       " 0.9816277549267286,\n",
       " 0.9833013166402758,\n",
       " 0.983178973508113,\n",
       " 0.9986357586583361]"
      ]
     },
     "execution_count": 31,
     "metadata": {},
     "output_type": "execute_result"
    }
   ],
   "source": [
    "pca_R2_y = [R2_3, R2_4, R2_5, R2_6, R2_7, R2_8, R2]\n",
    "pca_R2_y"
   ]
  },
  {
   "cell_type": "code",
   "execution_count": 32,
   "metadata": {},
   "outputs": [
    {
     "data": {
      "image/png": "[encoded data removed]",
      "text/plain": [
       "<Figure size 432x288 with 1 Axes>"
      ]
     },
     "metadata": {
      "needs_background": "light"
     },
     "output_type": "display_data"
    }
   ],
   "source": [
    "pca_R2_x = ['3', '4', '5', '6', '7', '8', 'N/A']\n",
    "pca_R2_y = [R2_3, R2_4, R2_5, R2_6, R2_7, R2_8, R2]\n",
    "plt.plot(pca_R2_x, pca_R2_y, color='k', linewidth=4)\n",
    "plt.ylim([0.95, 1.0])\n",
    "ax = plt.gca()\n",
    "plt.title(\"Comparison of Decision Tree Regressor R2 Score for \\nvarying components in Principal Component Analysis (PCA) \\n\")\n",
    "plt.xlabel(\"Components\")\n",
    "plt.ylabel(\"R2 Score\")\n",
    "plt.show()"
   ]
  },
  {
   "cell_type": "markdown",
   "metadata": {},
   "source": [
    "# Random Forest Regression"
   ]
  },
  {
   "cell_type": "code",
   "execution_count": 33,
   "metadata": {},
   "outputs": [
    {
     "name": "stderr",
     "output_type": "stream",
     "text": [
      "C:\\Users\\INSOMNIAC_PRATHAM\\Anaconda3\\lib\\site-packages\\sklearn\\ensemble\\forest.py:246: FutureWarning: The default value of n_estimators will change from 10 in version 0.20 to 100 in 0.22.\n",
      "  \"10 in version 0.20 to 100 in 0.22.\", FutureWarning)\n"
     ]
    },
    {
     "data": {
      "text/plain": [
       "0.9991727526740912"
      ]
     },
     "execution_count": 33,
     "metadata": {},
     "output_type": "execute_result"
    }
   ],
   "source": [
    "from sklearn.ensemble import RandomForestRegressor\n",
    "rfr = RandomForestRegressor()\n",
    "rfr.fit(X_train, y_train)\n",
    "fR2 = rfr.score(X_test,y_test)\n",
    "fR2"
   ]
  },
  {
   "cell_type": "code",
   "execution_count": 34,
   "metadata": {},
   "outputs": [],
   "source": [
    "comp = [3, 4, 5, 6, 7, 8]\n",
    "R2_Scores = []"
   ]
  },
  {
   "cell_type": "code",
   "execution_count": 35,
   "metadata": {},
   "outputs": [
    {
     "name": "stderr",
     "output_type": "stream",
     "text": [
      "C:\\Users\\INSOMNIAC_PRATHAM\\Anaconda3\\lib\\site-packages\\sklearn\\model_selection\\_split.py:2179: FutureWarning: From version 0.21, test_size will always complement train_size unless both are specified.\n",
      "  FutureWarning)\n",
      "C:\\Users\\INSOMNIAC_PRATHAM\\Anaconda3\\lib\\site-packages\\sklearn\\model_selection\\_split.py:2179: FutureWarning: From version 0.21, test_size will always complement train_size unless both are specified.\n",
      "  FutureWarning)\n",
      "C:\\Users\\INSOMNIAC_PRATHAM\\Anaconda3\\lib\\site-packages\\sklearn\\model_selection\\_split.py:2179: FutureWarning: From version 0.21, test_size will always complement train_size unless both are specified.\n",
      "  FutureWarning)\n",
      "C:\\Users\\INSOMNIAC_PRATHAM\\Anaconda3\\lib\\site-packages\\sklearn\\model_selection\\_split.py:2179: FutureWarning: From version 0.21, test_size will always complement train_size unless both are specified.\n",
      "  FutureWarning)\n",
      "C:\\Users\\INSOMNIAC_PRATHAM\\Anaconda3\\lib\\site-packages\\sklearn\\model_selection\\_split.py:2179: FutureWarning: From version 0.21, test_size will always complement train_size unless both are specified.\n",
      "  FutureWarning)\n",
      "C:\\Users\\INSOMNIAC_PRATHAM\\Anaconda3\\lib\\site-packages\\sklearn\\model_selection\\_split.py:2179: FutureWarning: From version 0.21, test_size will always complement train_size unless both are specified.\n",
      "  FutureWarning)\n"
     ]
    }
   ],
   "source": [
    "for c in comp:\n",
    "    X = Normdata[['Depth', 'ROP', 'WOB', 'DelP', 'Torque', 'RPM', 'Flow Rate',\n",
    "       'Mud Weight', 'Pump Pressure']]\n",
    "    y = Normdata['ECD']\n",
    "    pca = PCA(n_components = c)\n",
    "    pca = pca.fit_transform(X)\n",
    "    X = pd.DataFrame(pca)\n",
    "    X_train, X_test, y_train, y_test = train_test_split(X, y, train_size=0.75, random_state=101)\n",
    "    rfr.fit(X_train,y_train)\n",
    "    R2 = rfr.score(X_test,y_test)\n",
    "    R2_Scores.append(R2)"
   ]
  },
  {
   "cell_type": "code",
   "execution_count": 36,
   "metadata": {},
   "outputs": [],
   "source": [
    "comp.append('N/A')\n",
    "R2_Scores.append(fR2)"
   ]
  },
  {
   "cell_type": "code",
   "execution_count": 37,
   "metadata": {},
   "outputs": [
    {
     "data": {
      "text/plain": [
       "[0.9710878017564678,\n",
       " 0.9791562159045524,\n",
       " 0.9896822265744687,\n",
       " 0.9894379096479006,\n",
       " 0.9917712701815625,\n",
       " 0.9914678822974087,\n",
       " 0.9991727526740912]"
      ]
     },
     "execution_count": 37,
     "metadata": {},
     "output_type": "execute_result"
    }
   ],
   "source": [
    "R2_Scores"
   ]
  },
  {
   "cell_type": "code",
   "execution_count": 38,
   "metadata": {},
   "outputs": [
    {
     "data": {
      "image/png": "[encoded data removed]",
      "text/plain": [
       "<Figure size 432x288 with 1 Axes>"
      ]
     },
     "metadata": {
      "needs_background": "light"
     },
     "output_type": "display_data"
    }
   ],
   "source": [
    "plt.plot(comp, R2_Scores, color='k', linewidth=4)\n",
    "plt.ylim([0.95, 1.0])\n",
    "ax = plt.gca()\n",
    "plt.title(\"Comparison of Random Forest Regressor R2 Score for \\nvarying components in Principal Component Analysis (PCA) \\n\")\n",
    "plt.xlabel(\"Components\")\n",
    "plt.ylabel(\"R2 Score\")\n",
    "plt.show()"
   ]
  },
  {
   "cell_type": "markdown",
   "metadata": {},
   "source": [
    "# Elastic Net Regression"
   ]
  },
  {
   "cell_type": "code",
   "execution_count": 39,
   "metadata": {},
   "outputs": [
    {
     "data": {
      "text/plain": [
       "0.8452197441509554"
      ]
     },
     "execution_count": 39,
     "metadata": {},
     "output_type": "execute_result"
    }
   ],
   "source": [
    "from sklearn.linear_model import ElasticNet\n",
    "ereg = ElasticNet(alpha=0.01)\n",
    "ereg.fit(X_train, y_train)\n",
    "eR2 = ereg.score(X_test,y_test)\n",
    "eR2"
   ]
  },
  {
   "cell_type": "code",
   "execution_count": 40,
   "metadata": {},
   "outputs": [],
   "source": [
    "ecomp = [3, 4, 5, 6, 7, 8]\n",
    "eR2_Scores = []"
   ]
  },
  {
   "cell_type": "code",
   "execution_count": 41,
   "metadata": {},
   "outputs": [
    {
     "name": "stderr",
     "output_type": "stream",
     "text": [
      "C:\\Users\\INSOMNIAC_PRATHAM\\Anaconda3\\lib\\site-packages\\sklearn\\model_selection\\_split.py:2179: FutureWarning: From version 0.21, test_size will always complement train_size unless both are specified.\n",
      "  FutureWarning)\n",
      "C:\\Users\\INSOMNIAC_PRATHAM\\Anaconda3\\lib\\site-packages\\sklearn\\model_selection\\_split.py:2179: FutureWarning: From version 0.21, test_size will always complement train_size unless both are specified.\n",
      "  FutureWarning)\n",
      "C:\\Users\\INSOMNIAC_PRATHAM\\Anaconda3\\lib\\site-packages\\sklearn\\model_selection\\_split.py:2179: FutureWarning: From version 0.21, test_size will always complement train_size unless both are specified.\n",
      "  FutureWarning)\n",
      "C:\\Users\\INSOMNIAC_PRATHAM\\Anaconda3\\lib\\site-packages\\sklearn\\model_selection\\_split.py:2179: FutureWarning: From version 0.21, test_size will always complement train_size unless both are specified.\n",
      "  FutureWarning)\n",
      "C:\\Users\\INSOMNIAC_PRATHAM\\Anaconda3\\lib\\site-packages\\sklearn\\model_selection\\_split.py:2179: FutureWarning: From version 0.21, test_size will always complement train_size unless both are specified.\n",
      "  FutureWarning)\n",
      "C:\\Users\\INSOMNIAC_PRATHAM\\Anaconda3\\lib\\site-packages\\sklearn\\model_selection\\_split.py:2179: FutureWarning: From version 0.21, test_size will always complement train_size unless both are specified.\n",
      "  FutureWarning)\n"
     ]
    }
   ],
   "source": [
    "for e in ecomp:\n",
    "    X = Normdata[['Depth', 'ROP', 'WOB', 'DelP', 'Torque', 'RPM', 'Flow Rate',\n",
    "       'Mud Weight', 'Pump Pressure']]\n",
    "    y = Normdata['ECD']\n",
    "    pca = PCA(n_components = e)\n",
    "    pca = pca.fit_transform(X)\n",
    "    X = pd.DataFrame(pca)\n",
    "    X_train, X_test, y_train, y_test = train_test_split(X, y, train_size=0.75, random_state=101)\n",
    "    ereg.fit(X_train,y_train)\n",
    "    eR2 = ereg.score(X_test,y_test)\n",
    "    eR2_Scores.append(eR2)"
   ]
  },
  {
   "cell_type": "code",
   "execution_count": 42,
   "metadata": {},
   "outputs": [],
   "source": [
    "ecomp.append('N/A')\n",
    "eR2_Scores.append(eR2)"
   ]
  },
  {
   "cell_type": "code",
   "execution_count": 43,
   "metadata": {},
   "outputs": [
    {
     "data": {
      "text/plain": [
       "[0.8266992115477011,\n",
       " 0.8452197441509556,\n",
       " 0.8452197441509554,\n",
       " 0.8452197441509557,\n",
       " 0.8452197441509557,\n",
       " 0.8452197441509554,\n",
       " 0.8452197441509554]"
      ]
     },
     "execution_count": 43,
     "metadata": {},
     "output_type": "execute_result"
    }
   ],
   "source": [
    "eR2_Scores"
   ]
  },
  {
   "cell_type": "code",
   "execution_count": 44,
   "metadata": {},
   "outputs": [
    {
     "data": {
      "image/png": "[encoded data removed]",
      "text/plain": [
       "<Figure size 432x288 with 1 Axes>"
      ]
     },
     "metadata": {
      "needs_background": "light"
     },
     "output_type": "display_data"
    }
   ],
   "source": [
    "plt.plot(ecomp, eR2_Scores, color='k', linewidth=4)\n",
    "plt.ylim([0.80, 1.0])\n",
    "ax = plt.gca()\n",
    "plt.title(\"Comparison of Elastic Net Regressor R2 Score for \\nvarying components in Principal Component Analysis (PCA) \\n\")\n",
    "plt.xlabel(\"Components\")\n",
    "plt.ylabel(\"R2 Score\")\n",
    "plt.show()"
   ]
  },
  {
   "cell_type": "markdown",
   "metadata": {},
   "source": [
    "# XGBoost Regressor"
   ]
  },
  {
   "cell_type": "code",
   "execution_count": 45,
   "metadata": {},
   "outputs": [
    {
     "name": "stdout",
     "output_type": "stream",
     "text": [
      "[00:09:59] WARNING: src/objective/regression_obj.cu:152: reg:linear is now deprecated in favor of reg:squarederror.\n"
     ]
    },
    {
     "name": "stderr",
     "output_type": "stream",
     "text": [
      "C:\\Users\\INSOMNIAC_PRATHAM\\Anaconda3\\lib\\site-packages\\xgboost\\core.py:587: FutureWarning: Series.base is deprecated and will be removed in a future version\n",
      "  if getattr(data, 'base', None) is not None and \\\n"
     ]
    },
    {
     "data": {
      "text/plain": [
       "0.7402326529503168"
      ]
     },
     "execution_count": 45,
     "metadata": {},
     "output_type": "execute_result"
    }
   ],
   "source": [
    "import xgboost as xgb\n",
    "xgreg = xgb.XGBRegressor(objective ='reg:linear', n_estimators = 10, seed = 123)\n",
    "xgreg.fit(X_train,y_train)\n",
    "xgR2 = xgreg.score(X_test,y_test)\n",
    "xgR2"
   ]
  },
  {
   "cell_type": "code",
   "execution_count": 46,
   "metadata": {},
   "outputs": [
    {
     "name": "stderr",
     "output_type": "stream",
     "text": [
      "C:\\Users\\INSOMNIAC_PRATHAM\\Anaconda3\\lib\\site-packages\\xgboost\\core.py:587: FutureWarning: Series.base is deprecated and will be removed in a future version\n",
      "  if getattr(data, 'base', None) is not None and \\\n"
     ]
    },
    {
     "data": {
      "text/plain": [
       "0.7402326529503168"
      ]
     },
     "execution_count": 46,
     "metadata": {},
     "output_type": "execute_result"
    }
   ],
   "source": [
    "import xgboost as xgb\n",
    "xgreg = xgb.XGBRegressor(objective ='reg:squarederror', n_estimators = 10, seed = 123)\n",
    "xgreg.fit(X_train,y_train)\n",
    "xgR2 = xgreg.score(X_test,y_test)\n",
    "xgR2"
   ]
  },
  {
   "cell_type": "code",
   "execution_count": 47,
   "metadata": {},
   "outputs": [
    {
     "name": "stderr",
     "output_type": "stream",
     "text": [
      "C:\\Users\\INSOMNIAC_PRATHAM\\Anaconda3\\lib\\site-packages\\xgboost\\core.py:587: FutureWarning: Series.base is deprecated and will be removed in a future version\n",
      "  if getattr(data, 'base', None) is not None and \\\n"
     ]
    },
    {
     "data": {
      "text/plain": [
       "0.9868601338415264"
      ]
     },
     "execution_count": 47,
     "metadata": {},
     "output_type": "execute_result"
    }
   ],
   "source": [
    "import xgboost as xgb\n",
    "xgreg = xgb.XGBRegressor(verbosity=0)\n",
    "xgreg.fit(X_train,y_train)\n",
    "xgR2 = xgreg.score(X_test,y_test)\n",
    "xgR2"
   ]
  },
  {
   "cell_type": "code",
   "execution_count": 48,
   "metadata": {},
   "outputs": [],
   "source": [
    "xcomp = [3, 4, 5, 6, 7, 8]\n",
    "xR2_Scores = []"
   ]
  },
  {
   "cell_type": "code",
   "execution_count": 49,
   "metadata": {},
   "outputs": [
    {
     "name": "stderr",
     "output_type": "stream",
     "text": [
      "C:\\Users\\INSOMNIAC_PRATHAM\\Anaconda3\\lib\\site-packages\\sklearn\\model_selection\\_split.py:2179: FutureWarning: From version 0.21, test_size will always complement train_size unless both are specified.\n",
      "  FutureWarning)\n",
      "C:\\Users\\INSOMNIAC_PRATHAM\\Anaconda3\\lib\\site-packages\\xgboost\\core.py:587: FutureWarning: Series.base is deprecated and will be removed in a future version\n",
      "  if getattr(data, 'base', None) is not None and \\\n",
      "C:\\Users\\INSOMNIAC_PRATHAM\\Anaconda3\\lib\\site-packages\\sklearn\\model_selection\\_split.py:2179: FutureWarning: From version 0.21, test_size will always complement train_size unless both are specified.\n",
      "  FutureWarning)\n",
      "C:\\Users\\INSOMNIAC_PRATHAM\\Anaconda3\\lib\\site-packages\\xgboost\\core.py:587: FutureWarning: Series.base is deprecated and will be removed in a future version\n",
      "  if getattr(data, 'base', None) is not None and \\\n",
      "C:\\Users\\INSOMNIAC_PRATHAM\\Anaconda3\\lib\\site-packages\\sklearn\\model_selection\\_split.py:2179: FutureWarning: From version 0.21, test_size will always complement train_size unless both are specified.\n",
      "  FutureWarning)\n",
      "C:\\Users\\INSOMNIAC_PRATHAM\\Anaconda3\\lib\\site-packages\\xgboost\\core.py:587: FutureWarning: Series.base is deprecated and will be removed in a future version\n",
      "  if getattr(data, 'base', None) is not None and \\\n",
      "C:\\Users\\INSOMNIAC_PRATHAM\\Anaconda3\\lib\\site-packages\\sklearn\\model_selection\\_split.py:2179: FutureWarning: From version 0.21, test_size will always complement train_size unless both are specified.\n",
      "  FutureWarning)\n",
      "C:\\Users\\INSOMNIAC_PRATHAM\\Anaconda3\\lib\\site-packages\\xgboost\\core.py:587: FutureWarning: Series.base is deprecated and will be removed in a future version\n",
      "  if getattr(data, 'base', None) is not None and \\\n",
      "C:\\Users\\INSOMNIAC_PRATHAM\\Anaconda3\\lib\\site-packages\\sklearn\\model_selection\\_split.py:2179: FutureWarning: From version 0.21, test_size will always complement train_size unless both are specified.\n",
      "  FutureWarning)\n",
      "C:\\Users\\INSOMNIAC_PRATHAM\\Anaconda3\\lib\\site-packages\\xgboost\\core.py:587: FutureWarning: Series.base is deprecated and will be removed in a future version\n",
      "  if getattr(data, 'base', None) is not None and \\\n",
      "C:\\Users\\INSOMNIAC_PRATHAM\\Anaconda3\\lib\\site-packages\\sklearn\\model_selection\\_split.py:2179: FutureWarning: From version 0.21, test_size will always complement train_size unless both are specified.\n",
      "  FutureWarning)\n",
      "C:\\Users\\INSOMNIAC_PRATHAM\\Anaconda3\\lib\\site-packages\\xgboost\\core.py:587: FutureWarning: Series.base is deprecated and will be removed in a future version\n",
      "  if getattr(data, 'base', None) is not None and \\\n"
     ]
    }
   ],
   "source": [
    "for x in xcomp:\n",
    "    X = Normdata[['Depth', 'ROP', 'WOB', 'DelP', 'Torque', 'RPM', 'Flow Rate',\n",
    "       'Mud Weight', 'Pump Pressure']]\n",
    "    y = Normdata['ECD']\n",
    "    pca = PCA(n_components = x)\n",
    "    pca = pca.fit_transform(X)\n",
    "    X = pd.DataFrame(pca)\n",
    "    X_train, X_test, y_train, y_test = train_test_split(X, y, train_size=0.75, random_state=101)\n",
    "    xgreg.fit(X_train,y_train)\n",
    "    xR2 = xgreg.score(X_test,y_test)\n",
    "    xR2_Scores.append(xR2)"
   ]
  },
  {
   "cell_type": "code",
   "execution_count": 50,
   "metadata": {},
   "outputs": [
    {
     "data": {
      "text/plain": [
       "[0.9579440232679746,\n",
       " 0.964109076707281,\n",
       " 0.9780278042740392,\n",
       " 0.982650714340146,\n",
       " 0.9873208166559269,\n",
       " 0.9868601338415264,\n",
       " 0.9868601338415264]"
      ]
     },
     "execution_count": 50,
     "metadata": {},
     "output_type": "execute_result"
    }
   ],
   "source": [
    "xcomp.append('N/A')\n",
    "xR2_Scores.append(xgR2)\n",
    "xR2_Scores"
   ]
  },
  {
   "cell_type": "code",
   "execution_count": 51,
   "metadata": {},
   "outputs": [
    {
     "data": {
      "image/png": "[encoded data removed]",
      "text/plain": [
       "<Figure size 432x288 with 1 Axes>"
      ]
     },
     "metadata": {
      "needs_background": "light"
     },
     "output_type": "display_data"
    }
   ],
   "source": [
    "plt.plot(xcomp, xR2_Scores, color='k', linewidth=4)\n",
    "plt.ylim([0.95, 1.0])\n",
    "ax = plt.gca()\n",
    "plt.title(\"Comparison of XG Boost Regressor R2 Score for \\nvarying components in Principal Component Analysis (PCA) \\n\")\n",
    "plt.xlabel(\"Components\")\n",
    "plt.ylabel(\"R2 Score\")\n",
    "plt.show()"
   ]
  },
  {
   "cell_type": "markdown",
   "metadata": {},
   "source": [
    "# Support Vector Machine Regressor"
   ]
  },
  {
   "cell_type": "code",
   "execution_count": 52,
   "metadata": {},
   "outputs": [
    {
     "name": "stderr",
     "output_type": "stream",
     "text": [
      "C:\\Users\\INSOMNIAC_PRATHAM\\Anaconda3\\lib\\site-packages\\sklearn\\svm\\base.py:196: FutureWarning: The default value of gamma will change from 'auto' to 'scale' in version 0.22 to account better for unscaled features. Set gamma explicitly to 'auto' or 'scale' to avoid this warning.\n",
      "  \"avoid this warning.\", FutureWarning)\n"
     ]
    },
    {
     "data": {
      "text/plain": [
       "0.9325000448071359"
      ]
     },
     "execution_count": 52,
     "metadata": {},
     "output_type": "execute_result"
    }
   ],
   "source": [
    "from sklearn.svm import SVR\n",
    "svr = SVR()\n",
    "svr.fit(X_train,y_train)\n",
    "svmR2 = svr.score(X_test,y_test)\n",
    "svmR2"
   ]
  },
  {
   "cell_type": "code",
   "execution_count": 53,
   "metadata": {},
   "outputs": [],
   "source": [
    "svcomp = [3, 4, 5, 6, 7, 8]\n",
    "svmR2_Scores = []"
   ]
  },
  {
   "cell_type": "code",
   "execution_count": 54,
   "metadata": {},
   "outputs": [
    {
     "name": "stderr",
     "output_type": "stream",
     "text": [
      "C:\\Users\\INSOMNIAC_PRATHAM\\Anaconda3\\lib\\site-packages\\sklearn\\model_selection\\_split.py:2179: FutureWarning: From version 0.21, test_size will always complement train_size unless both are specified.\n",
      "  FutureWarning)\n",
      "C:\\Users\\INSOMNIAC_PRATHAM\\Anaconda3\\lib\\site-packages\\sklearn\\svm\\base.py:196: FutureWarning: The default value of gamma will change from 'auto' to 'scale' in version 0.22 to account better for unscaled features. Set gamma explicitly to 'auto' or 'scale' to avoid this warning.\n",
      "  \"avoid this warning.\", FutureWarning)\n",
      "C:\\Users\\INSOMNIAC_PRATHAM\\Anaconda3\\lib\\site-packages\\sklearn\\model_selection\\_split.py:2179: FutureWarning: From version 0.21, test_size will always complement train_size unless both are specified.\n",
      "  FutureWarning)\n",
      "C:\\Users\\INSOMNIAC_PRATHAM\\Anaconda3\\lib\\site-packages\\sklearn\\svm\\base.py:196: FutureWarning: The default value of gamma will change from 'auto' to 'scale' in version 0.22 to account better for unscaled features. Set gamma explicitly to 'auto' or 'scale' to avoid this warning.\n",
      "  \"avoid this warning.\", FutureWarning)\n",
      "C:\\Users\\INSOMNIAC_PRATHAM\\Anaconda3\\lib\\site-packages\\sklearn\\model_selection\\_split.py:2179: FutureWarning: From version 0.21, test_size will always complement train_size unless both are specified.\n",
      "  FutureWarning)\n",
      "C:\\Users\\INSOMNIAC_PRATHAM\\Anaconda3\\lib\\site-packages\\sklearn\\svm\\base.py:196: FutureWarning: The default value of gamma will change from 'auto' to 'scale' in version 0.22 to account better for unscaled features. Set gamma explicitly to 'auto' or 'scale' to avoid this warning.\n",
      "  \"avoid this warning.\", FutureWarning)\n",
      "C:\\Users\\INSOMNIAC_PRATHAM\\Anaconda3\\lib\\site-packages\\sklearn\\model_selection\\_split.py:2179: FutureWarning: From version 0.21, test_size will always complement train_size unless both are specified.\n",
      "  FutureWarning)\n",
      "C:\\Users\\INSOMNIAC_PRATHAM\\Anaconda3\\lib\\site-packages\\sklearn\\svm\\base.py:196: FutureWarning: The default value of gamma will change from 'auto' to 'scale' in version 0.22 to account better for unscaled features. Set gamma explicitly to 'auto' or 'scale' to avoid this warning.\n",
      "  \"avoid this warning.\", FutureWarning)\n",
      "C:\\Users\\INSOMNIAC_PRATHAM\\Anaconda3\\lib\\site-packages\\sklearn\\model_selection\\_split.py:2179: FutureWarning: From version 0.21, test_size will always complement train_size unless both are specified.\n",
      "  FutureWarning)\n",
      "C:\\Users\\INSOMNIAC_PRATHAM\\Anaconda3\\lib\\site-packages\\sklearn\\svm\\base.py:196: FutureWarning: The default value of gamma will change from 'auto' to 'scale' in version 0.22 to account better for unscaled features. Set gamma explicitly to 'auto' or 'scale' to avoid this warning.\n",
      "  \"avoid this warning.\", FutureWarning)\n",
      "C:\\Users\\INSOMNIAC_PRATHAM\\Anaconda3\\lib\\site-packages\\sklearn\\model_selection\\_split.py:2179: FutureWarning: From version 0.21, test_size will always complement train_size unless both are specified.\n",
      "  FutureWarning)\n",
      "C:\\Users\\INSOMNIAC_PRATHAM\\Anaconda3\\lib\\site-packages\\sklearn\\svm\\base.py:196: FutureWarning: The default value of gamma will change from 'auto' to 'scale' in version 0.22 to account better for unscaled features. Set gamma explicitly to 'auto' or 'scale' to avoid this warning.\n",
      "  \"avoid this warning.\", FutureWarning)\n"
     ]
    }
   ],
   "source": [
    "for sv in svcomp:\n",
    "    X = Normdata[['Depth', 'ROP', 'WOB', 'DelP', 'Torque', 'RPM', 'Flow Rate',\n",
    "       'Mud Weight', 'Pump Pressure']]\n",
    "    y = Normdata['ECD']\n",
    "    pca = PCA(n_components = sv)\n",
    "    pca = pca.fit_transform(X)\n",
    "    X = pd.DataFrame(pca)\n",
    "    X_train, X_test, y_train, y_test = train_test_split(X, y, train_size=0.75, random_state=101)\n",
    "    svr.fit(X_train,y_train)\n",
    "    svR2 = svr.score(X_test,y_test)\n",
    "    svmR2_Scores.append(svR2)"
   ]
  },
  {
   "cell_type": "code",
   "execution_count": 55,
   "metadata": {},
   "outputs": [
    {
     "data": {
      "text/plain": [
       "[0.9311305131507295,\n",
       " 0.947032754333884,\n",
       " 0.9573991347042978,\n",
       " 0.9650266374952505,\n",
       " 0.9283673583118662,\n",
       " 0.9325000448071359,\n",
       " 0.9325000448071359]"
      ]
     },
     "execution_count": 55,
     "metadata": {},
     "output_type": "execute_result"
    }
   ],
   "source": [
    "svcomp.append('N/A')\n",
    "svmR2_Scores.append(svmR2)\n",
    "svmR2_Scores"
   ]
  },
  {
   "cell_type": "code",
   "execution_count": 56,
   "metadata": {},
   "outputs": [
    {
     "data": {
      "image/png": "[encoded data removed]",
      "text/plain": [
       "<Figure size 432x288 with 1 Axes>"
      ]
     },
     "metadata": {
      "needs_background": "light"
     },
     "output_type": "display_data"
    }
   ],
   "source": [
    "plt.plot(svcomp, svmR2_Scores, color='k', linewidth=4)\n",
    "plt.ylim([0.90, 1.0])\n",
    "ax = plt.gca()\n",
    "plt.title(\"Comparison of SVM Regressor R2 Score for \\nvarying components in Principal Component Analysis (PCA) \\n\")\n",
    "plt.xlabel(\"Components\")\n",
    "plt.ylabel(\"R2 Score\")\n",
    "plt.show()"
   ]
  },
  {
   "cell_type": "markdown",
   "metadata": {},
   "source": [
    "# KNN Regression"
   ]
  },
  {
   "cell_type": "code",
   "execution_count": 57,
   "metadata": {},
   "outputs": [],
   "source": [
    "from sklearn.neighbors import KNeighborsRegressor"
   ]
  },
  {
   "cell_type": "code",
   "execution_count": 58,
   "metadata": {},
   "outputs": [],
   "source": [
    "knn = [1,2,3,4,5,6,7,8,9,10,11,12]\n",
    "R2score_knn = []"
   ]
  },
  {
   "cell_type": "code",
   "execution_count": 59,
   "metadata": {},
   "outputs": [
    {
     "data": {
      "text/plain": [
       "[0.9896654678737233,\n",
       " 0.992231788197911,\n",
       " 0.9923918986806208,\n",
       " 0.9925129754202993,\n",
       " 0.9925518424483707,\n",
       " 0.9923721493699782,\n",
       " 0.9920985745698889,\n",
       " 0.991717240107276,\n",
       " 0.9915946021959906,\n",
       " 0.9914537320445755,\n",
       " 0.9913207725503954,\n",
       " 0.99123872809645]"
      ]
     },
     "execution_count": 59,
     "metadata": {},
     "output_type": "execute_result"
    }
   ],
   "source": [
    "for k in knn:\n",
    "    model = KNeighborsRegressor(k).fit(X_train,y_train)   \n",
    "    score = model.score(X_test,y_test)\n",
    "    R2score_knn.append(score)\n",
    "R2score_knn"
   ]
  },
  {
   "cell_type": "code",
   "execution_count": 60,
   "metadata": {},
   "outputs": [
    {
     "data": {
      "image/png": "[encoded data removed]",
      "text/plain": [
       "<Figure size 432x288 with 1 Axes>"
      ]
     },
     "metadata": {
      "needs_background": "light"
     },
     "output_type": "display_data"
    }
   ],
   "source": [
    "plt.plot(knn, R2score_knn, color='k', linewidth=4)\n",
    "plt.ylim([0.98, 1.0])\n",
    "ax = plt.gca()\n",
    "plt.title(\"Comparison of KNN Regressor R2 Score for varying k values \\n\")\n",
    "plt.xlabel(\"Ck value\")\n",
    "plt.ylabel(\"R2 Score\")\n",
    "plt.show()"
   ]
  },
  {
   "cell_type": "code",
   "execution_count": 61,
   "metadata": {},
   "outputs": [
    {
     "data": {
      "text/plain": [
       "0.9925518424483707"
      ]
     },
     "execution_count": 61,
     "metadata": {},
     "output_type": "execute_result"
    }
   ],
   "source": [
    "clf = KNeighborsRegressor(5)\n",
    "clf.fit(X_train,y_train)\n",
    "clfR2 = clf.score(X_test,y_test)\n",
    "clfR2"
   ]
  },
  {
   "cell_type": "code",
   "execution_count": 62,
   "metadata": {},
   "outputs": [],
   "source": [
    "knncomp = [3, 4, 5, 6, 7, 8]\n",
    "knnR2_Scores = []"
   ]
  },
  {
   "cell_type": "code",
   "execution_count": 63,
   "metadata": {},
   "outputs": [
    {
     "name": "stderr",
     "output_type": "stream",
     "text": [
      "C:\\Users\\INSOMNIAC_PRATHAM\\Anaconda3\\lib\\site-packages\\sklearn\\model_selection\\_split.py:2179: FutureWarning: From version 0.21, test_size will always complement train_size unless both are specified.\n",
      "  FutureWarning)\n",
      "C:\\Users\\INSOMNIAC_PRATHAM\\Anaconda3\\lib\\site-packages\\sklearn\\model_selection\\_split.py:2179: FutureWarning: From version 0.21, test_size will always complement train_size unless both are specified.\n",
      "  FutureWarning)\n",
      "C:\\Users\\INSOMNIAC_PRATHAM\\Anaconda3\\lib\\site-packages\\sklearn\\model_selection\\_split.py:2179: FutureWarning: From version 0.21, test_size will always complement train_size unless both are specified.\n",
      "  FutureWarning)\n",
      "C:\\Users\\INSOMNIAC_PRATHAM\\Anaconda3\\lib\\site-packages\\sklearn\\model_selection\\_split.py:2179: FutureWarning: From version 0.21, test_size will always complement train_size unless both are specified.\n",
      "  FutureWarning)\n",
      "C:\\Users\\INSOMNIAC_PRATHAM\\Anaconda3\\lib\\site-packages\\sklearn\\model_selection\\_split.py:2179: FutureWarning: From version 0.21, test_size will always complement train_size unless both are specified.\n",
      "  FutureWarning)\n",
      "C:\\Users\\INSOMNIAC_PRATHAM\\Anaconda3\\lib\\site-packages\\sklearn\\model_selection\\_split.py:2179: FutureWarning: From version 0.21, test_size will always complement train_size unless both are specified.\n",
      "  FutureWarning)\n"
     ]
    }
   ],
   "source": [
    "for k in knncomp:\n",
    "    X = Normdata[['Depth', 'ROP', 'WOB', 'DelP', 'Torque', 'RPM', 'Flow Rate',\n",
    "       'Mud Weight', 'Pump Pressure']]\n",
    "    y = Normdata['ECD']\n",
    "    pca = PCA(n_components = k)\n",
    "    pca = pca.fit_transform(X)\n",
    "    X = pd.DataFrame(pca)\n",
    "    X_train, X_test, y_train, y_test = train_test_split(X, y, train_size=0.75, random_state=101)\n",
    "    clf.fit(X_train,y_train)\n",
    "    knnR2 = clf.score(X_test,y_test)\n",
    "    knnR2_Scores.append(knnR2)"
   ]
  },
  {
   "cell_type": "code",
   "execution_count": 64,
   "metadata": {},
   "outputs": [
    {
     "data": {
      "text/plain": [
       "[0.972400866735112,\n",
       " 0.979846438922439,\n",
       " 0.9881290228026378,\n",
       " 0.9882277283183224,\n",
       " 0.9925368842691931,\n",
       " 0.9925518424483707,\n",
       " 0.9925518424483707]"
      ]
     },
     "execution_count": 64,
     "metadata": {},
     "output_type": "execute_result"
    }
   ],
   "source": [
    "knncomp.append('N/A')\n",
    "knnR2_Scores.append(clfR2)\n",
    "knnR2_Scores"
   ]
  },
  {
   "cell_type": "code",
   "execution_count": 65,
   "metadata": {},
   "outputs": [
    {
     "data": {
      "image/png": "[encoded data removed]",
      "text/plain": [
       "<Figure size 432x288 with 1 Axes>"
      ]
     },
     "metadata": {
      "needs_background": "light"
     },
     "output_type": "display_data"
    }
   ],
   "source": [
    "plt.plot(knncomp, knnR2_Scores, color='k', linewidth=4)\n",
    "plt.ylim([0.97, 1.0])\n",
    "ax = plt.gca()\n",
    "plt.title(\"Comparison of KNN Regressor R2 Score for \\nvarying components in Principal Component Analysis (PCA) \\n\")\n",
    "plt.xlabel(\"Components\")\n",
    "plt.ylabel(\"R2 Score\")\n",
    "plt.show()"
   ]
  },
  {
   "cell_type": "markdown",
   "metadata": {},
   "source": [
    "# Comparison of various Machine Learning Models"
   ]
  },
  {
   "cell_type": "code",
   "execution_count": 66,
   "metadata": {},
   "outputs": [],
   "source": [
    "Plot_R2 = [R2, fR2, eR2, xR2, svmR2, clfR2]\n",
    "Plot_x = ['Decision Tree', 'Random Forest', 'Elastic Net', 'XGBoost', 'SVM', 'KNN']"
   ]
  },
  {
   "cell_type": "code",
   "execution_count": 67,
   "metadata": {},
   "outputs": [
    {
     "data": {
      "image/png": "[encoded data removed]",
      "text/plain": [
       "<Figure size 432x288 with 1 Axes>"
      ]
     },
     "metadata": {
      "needs_background": "light"
     },
     "output_type": "display_data"
    }
   ],
   "source": [
    "plt.plot(Plot_x, Plot_R2, color='k', linewidth=4)\n",
    "plt.ylim([0.8, 1.05])\n",
    "ax = plt.gca()\n",
    "plt.title(\"Comparison of All the models \\n\")\n",
    "plt.xlabel(\"Components\")\n",
    "plt.ylabel(\"R2 Score\")\n",
    "plt.xticks(rotation=45)\n",
    "plt.show()"
   ]
  },
  {
   "cell_type": "markdown",
   "metadata": {},
   "source": [
    "# Comparing varying PCA components for different models"
   ]
  },
  {
   "cell_type": "code",
   "execution_count": 68,
   "metadata": {},
   "outputs": [
    {
     "data": {
      "image/png": "[encoded data removed]",
      "text/plain": [
       "<Figure size 432x288 with 1 Axes>"
      ]
     },
     "metadata": {
      "needs_background": "light"
     },
     "output_type": "display_data"
    }
   ],
   "source": [
    "plt.plot(svcomp, svmR2_Scores, color='g', linewidth=2, label = 'SVM')\n",
    "plt.plot(knncomp, knnR2_Scores, color='b', linewidth=2, label = 'KNN')\n",
    "plt.plot(comp, R2_Scores, color='r', linewidth=2, label = 'RF')\n",
    "plt.plot(pca_R2_x, pca_R2_y, color='c', linewidth=2, label = 'DT')\n",
    "plt.plot(xcomp, xR2_Scores, color='k', linewidth=2, label = 'XGB')\n",
    "plt.plot(ecomp, eR2_Scores, color='m', linewidth=2, label = 'EN')\n",
    "plt.ylim([0.80, 1.0])\n",
    "ax = plt.gca()\n",
    "box = ax.get_position()\n",
    "ax.set_position([box.x0, box.y0, box.width * 0.8, box.height])\n",
    "ax.legend(loc='center left', bbox_to_anchor=(1, 0.5))\n",
    "plt.title(\"Comparison of varying PCA components for different models \\n\")\n",
    "plt.xlabel(\"Components\")\n",
    "plt.ylabel(\"R2 Score\")\n",
    "plt.show()"
   ]
  }
 ],
 "metadata": {
  "kernelspec": {
   "display_name": "Python 3",
   "language": "python",
   "name": "python3"
  },
  "language_info": {
   "codemirror_mode": {
    "name": "ipython",
    "version": 3
   },
   "file_extension": ".py",
   "mimetype": "text/x-python",
   "name": "python",
   "nbconvert_exporter": "python",
   "pygments_lexer": "ipython3",
   "version": "3.7.3"
  }
 },
 "nbformat": 4,
 "nbformat_minor": 2
}
